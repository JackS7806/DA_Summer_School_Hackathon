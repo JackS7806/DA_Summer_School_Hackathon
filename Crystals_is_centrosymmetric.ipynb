{
 "cells": [
  {
   "cell_type": "markdown",
   "metadata": {},
   "source": [
    "# FoNS Datathon 2021 "
   ]
  },
  {
   "cell_type": "code",
   "execution_count": null,
   "metadata": {},
   "outputs": [],
   "source": [
    "# Import necessary modules\n",
    "import pandas as pd\n",
    "import numpy as np\n",
    "import matplotlib.pyplot as plt\n",
    "from sklearn import *\n",
    "from sklearn.model_selection import train_test_split\n",
    "from sklearn.metrics import mean_squared_error\n",
    "from sklearn.preprocessing import StandardScaler\n",
    "from math import sqrt\n",
    "\n",
    "# Keras specific\n",
    "import keras\n",
    "from keras.models import Sequential\n",
    "from keras.layers import Dense\n",
    "from keras.utils import to_categorical"
   ]
  },
  {
   "cell_type": "code",
   "execution_count": 190,
   "metadata": {},
   "outputs": [],
   "source": [
    "train_descriptors = pd.read_csv(\"train_descriptors.csv\")\n",
    "train_crystals = pd.read_csv(\"train_crystals.csv\")"
   ]
  },
  {
   "cell_type": "code",
   "execution_count": 191,
   "metadata": {},
   "outputs": [
    {
     "data": {
      "text/plain": [
       "(13449, 22)"
      ]
     },
     "execution_count": 191,
     "metadata": {},
     "output_type": "execute_result"
    }
   ],
   "source": [
    "train_descriptors.shape\n",
    "train_crystals.shape"
   ]
  },
  {
   "cell_type": "markdown",
   "metadata": {},
   "source": [
    "### Data pre-processing"
   ]
  },
  {
   "cell_type": "code",
   "execution_count": null,
   "metadata": {},
   "outputs": [],
   "source": [
    "#train_is_centro = train_crystals.iloc[:,[0,16]]\n",
    "#my_array = train_is_centro.to_numpy()\n",
    "#train_is_centro.info()"
   ]
  },
  {
   "cell_type": "code",
   "execution_count": 192,
   "metadata": {},
   "outputs": [
    {
     "data": {
      "text/html": [
       "<div>\n",
       "<style scoped>\n",
       "    .dataframe tbody tr th:only-of-type {\n",
       "        vertical-align: middle;\n",
       "    }\n",
       "\n",
       "    .dataframe tbody tr th {\n",
       "        vertical-align: top;\n",
       "    }\n",
       "\n",
       "    .dataframe thead th {\n",
       "        text-align: right;\n",
       "    }\n",
       "</style>\n",
       "<table border=\"1\" class=\"dataframe\">\n",
       "  <thead>\n",
       "    <tr style=\"text-align: right;\">\n",
       "      <th></th>\n",
       "      <th>ABC</th>\n",
       "      <th>ABCGG</th>\n",
       "      <th>nAcid</th>\n",
       "      <th>nBase</th>\n",
       "      <th>SpAbs_A</th>\n",
       "      <th>SpMax_A</th>\n",
       "      <th>SpDiam_A</th>\n",
       "      <th>SpAD_A</th>\n",
       "      <th>SpMAD_A</th>\n",
       "      <th>LogEE_A</th>\n",
       "      <th>...</th>\n",
       "      <th>SRW09</th>\n",
       "      <th>SRW10</th>\n",
       "      <th>TSRW10</th>\n",
       "      <th>MW</th>\n",
       "      <th>AMW</th>\n",
       "      <th>WPath</th>\n",
       "      <th>WPol</th>\n",
       "      <th>Zagreb1</th>\n",
       "      <th>Zagreb2</th>\n",
       "      <th>mZagreb2</th>\n",
       "    </tr>\n",
       "  </thead>\n",
       "  <tbody>\n",
       "    <tr>\n",
       "      <th>count</th>\n",
       "      <td>13449.000000</td>\n",
       "      <td>13449.000000</td>\n",
       "      <td>13449.000000</td>\n",
       "      <td>13449.000000</td>\n",
       "      <td>13449.000000</td>\n",
       "      <td>13449.000000</td>\n",
       "      <td>13449.000000</td>\n",
       "      <td>13449.000000</td>\n",
       "      <td>13449.000000</td>\n",
       "      <td>13449.000000</td>\n",
       "      <td>...</td>\n",
       "      <td>13449.000000</td>\n",
       "      <td>13449.000000</td>\n",
       "      <td>13449.000000</td>\n",
       "      <td>13449.000000</td>\n",
       "      <td>13449.000000</td>\n",
       "      <td>13449.000000</td>\n",
       "      <td>13449.000000</td>\n",
       "      <td>13449.000000</td>\n",
       "      <td>13449.000000</td>\n",
       "      <td>13449.000000</td>\n",
       "    </tr>\n",
       "    <tr>\n",
       "      <th>mean</th>\n",
       "      <td>8.791685</td>\n",
       "      <td>8.238880</td>\n",
       "      <td>0.199866</td>\n",
       "      <td>0.133318</td>\n",
       "      <td>14.482533</td>\n",
       "      <td>2.285946</td>\n",
       "      <td>4.518230</td>\n",
       "      <td>14.482533</td>\n",
       "      <td>1.212549</td>\n",
       "      <td>3.336477</td>\n",
       "      <td>...</td>\n",
       "      <td>2.293947</td>\n",
       "      <td>8.984032</td>\n",
       "      <td>46.486221</td>\n",
       "      <td>186.900136</td>\n",
       "      <td>9.775701</td>\n",
       "      <td>215.200610</td>\n",
       "      <td>14.619079</td>\n",
       "      <td>56.657447</td>\n",
       "      <td>63.720574</td>\n",
       "      <td>2.709742</td>\n",
       "    </tr>\n",
       "    <tr>\n",
       "      <th>std</th>\n",
       "      <td>2.294386</td>\n",
       "      <td>1.930659</td>\n",
       "      <td>0.542015</td>\n",
       "      <td>0.515376</td>\n",
       "      <td>3.841234</td>\n",
       "      <td>0.170151</td>\n",
       "      <td>0.319963</td>\n",
       "      <td>3.841234</td>\n",
       "      <td>0.098475</td>\n",
       "      <td>0.317564</td>\n",
       "      <td>...</td>\n",
       "      <td>3.220250</td>\n",
       "      <td>0.798111</td>\n",
       "      <td>9.392858</td>\n",
       "      <td>60.272050</td>\n",
       "      <td>4.809162</td>\n",
       "      <td>112.752072</td>\n",
       "      <td>5.969207</td>\n",
       "      <td>16.601514</td>\n",
       "      <td>21.249684</td>\n",
       "      <td>0.606246</td>\n",
       "    </tr>\n",
       "    <tr>\n",
       "      <th>min</th>\n",
       "      <td>0.000000</td>\n",
       "      <td>0.000000</td>\n",
       "      <td>0.000000</td>\n",
       "      <td>0.000000</td>\n",
       "      <td>0.000000</td>\n",
       "      <td>0.000000</td>\n",
       "      <td>0.000000</td>\n",
       "      <td>0.000000</td>\n",
       "      <td>0.000000</td>\n",
       "      <td>0.693147</td>\n",
       "      <td>...</td>\n",
       "      <td>0.000000</td>\n",
       "      <td>0.000000</td>\n",
       "      <td>1.000000</td>\n",
       "      <td>18.010565</td>\n",
       "      <td>4.005691</td>\n",
       "      <td>0.000000</td>\n",
       "      <td>0.000000</td>\n",
       "      <td>0.000000</td>\n",
       "      <td>0.000000</td>\n",
       "      <td>0.000000</td>\n",
       "    </tr>\n",
       "    <tr>\n",
       "      <th>25%</th>\n",
       "      <td>7.387307</td>\n",
       "      <td>7.174621</td>\n",
       "      <td>0.000000</td>\n",
       "      <td>0.000000</td>\n",
       "      <td>12.128990</td>\n",
       "      <td>2.229689</td>\n",
       "      <td>4.421017</td>\n",
       "      <td>12.128990</td>\n",
       "      <td>1.170950</td>\n",
       "      <td>3.206353</td>\n",
       "      <td>...</td>\n",
       "      <td>0.000000</td>\n",
       "      <td>8.801319</td>\n",
       "      <td>40.743587</td>\n",
       "      <td>153.042593</td>\n",
       "      <td>7.539533</td>\n",
       "      <td>120.000000</td>\n",
       "      <td>11.000000</td>\n",
       "      <td>46.000000</td>\n",
       "      <td>51.000000</td>\n",
       "      <td>2.333333</td>\n",
       "    </tr>\n",
       "    <tr>\n",
       "      <th>50%</th>\n",
       "      <td>9.289847</td>\n",
       "      <td>8.672233</td>\n",
       "      <td>0.000000</td>\n",
       "      <td>0.000000</td>\n",
       "      <td>15.169974</td>\n",
       "      <td>2.307250</td>\n",
       "      <td>4.576491</td>\n",
       "      <td>15.169974</td>\n",
       "      <td>1.226296</td>\n",
       "      <td>3.429672</td>\n",
       "      <td>...</td>\n",
       "      <td>0.000000</td>\n",
       "      <td>9.151333</td>\n",
       "      <td>45.062973</td>\n",
       "      <td>186.115698</td>\n",
       "      <td>8.561809</td>\n",
       "      <td>216.000000</td>\n",
       "      <td>15.000000</td>\n",
       "      <td>60.000000</td>\n",
       "      <td>67.000000</td>\n",
       "      <td>2.833333</td>\n",
       "    </tr>\n",
       "    <tr>\n",
       "      <th>75%</th>\n",
       "      <td>10.663621</td>\n",
       "      <td>9.671606</td>\n",
       "      <td>0.000000</td>\n",
       "      <td>0.000000</td>\n",
       "      <td>17.507310</td>\n",
       "      <td>2.390047</td>\n",
       "      <td>4.713505</td>\n",
       "      <td>17.507310</td>\n",
       "      <td>1.280480</td>\n",
       "      <td>3.565020</td>\n",
       "      <td>...</td>\n",
       "      <td>6.555357</td>\n",
       "      <td>9.435003</td>\n",
       "      <td>55.113484</td>\n",
       "      <td>211.076392</td>\n",
       "      <td>10.334356</td>\n",
       "      <td>308.000000</td>\n",
       "      <td>19.000000</td>\n",
       "      <td>70.000000</td>\n",
       "      <td>79.000000</td>\n",
       "      <td>3.194444</td>\n",
       "    </tr>\n",
       "    <tr>\n",
       "      <th>max</th>\n",
       "      <td>13.654635</td>\n",
       "      <td>13.823161</td>\n",
       "      <td>6.000000</td>\n",
       "      <td>6.000000</td>\n",
       "      <td>21.668223</td>\n",
       "      <td>3.177410</td>\n",
       "      <td>5.647510</td>\n",
       "      <td>21.668223</td>\n",
       "      <td>1.497552</td>\n",
       "      <td>4.012452</td>\n",
       "      <td>...</td>\n",
       "      <td>10.478217</td>\n",
       "      <td>11.635824</td>\n",
       "      <td>79.497525</td>\n",
       "      <td>917.469506</td>\n",
       "      <td>103.923578</td>\n",
       "      <td>560.000000</td>\n",
       "      <td>33.000000</td>\n",
       "      <td>122.000000</td>\n",
       "      <td>187.000000</td>\n",
       "      <td>4.000000</td>\n",
       "    </tr>\n",
       "  </tbody>\n",
       "</table>\n",
       "<p>8 rows × 984 columns</p>\n",
       "</div>"
      ],
      "text/plain": [
       "                ABC         ABCGG         nAcid         nBase       SpAbs_A  \\\n",
       "count  13449.000000  13449.000000  13449.000000  13449.000000  13449.000000   \n",
       "mean       8.791685      8.238880      0.199866      0.133318     14.482533   \n",
       "std        2.294386      1.930659      0.542015      0.515376      3.841234   \n",
       "min        0.000000      0.000000      0.000000      0.000000      0.000000   \n",
       "25%        7.387307      7.174621      0.000000      0.000000     12.128990   \n",
       "50%        9.289847      8.672233      0.000000      0.000000     15.169974   \n",
       "75%       10.663621      9.671606      0.000000      0.000000     17.507310   \n",
       "max       13.654635     13.823161      6.000000      6.000000     21.668223   \n",
       "\n",
       "            SpMax_A      SpDiam_A        SpAD_A       SpMAD_A       LogEE_A  \\\n",
       "count  13449.000000  13449.000000  13449.000000  13449.000000  13449.000000   \n",
       "mean       2.285946      4.518230     14.482533      1.212549      3.336477   \n",
       "std        0.170151      0.319963      3.841234      0.098475      0.317564   \n",
       "min        0.000000      0.000000      0.000000      0.000000      0.693147   \n",
       "25%        2.229689      4.421017     12.128990      1.170950      3.206353   \n",
       "50%        2.307250      4.576491     15.169974      1.226296      3.429672   \n",
       "75%        2.390047      4.713505     17.507310      1.280480      3.565020   \n",
       "max        3.177410      5.647510     21.668223      1.497552      4.012452   \n",
       "\n",
       "           ...              SRW09         SRW10        TSRW10            MW  \\\n",
       "count      ...       13449.000000  13449.000000  13449.000000  13449.000000   \n",
       "mean       ...           2.293947      8.984032     46.486221    186.900136   \n",
       "std        ...           3.220250      0.798111      9.392858     60.272050   \n",
       "min        ...           0.000000      0.000000      1.000000     18.010565   \n",
       "25%        ...           0.000000      8.801319     40.743587    153.042593   \n",
       "50%        ...           0.000000      9.151333     45.062973    186.115698   \n",
       "75%        ...           6.555357      9.435003     55.113484    211.076392   \n",
       "max        ...          10.478217     11.635824     79.497525    917.469506   \n",
       "\n",
       "                AMW         WPath          WPol       Zagreb1       Zagreb2  \\\n",
       "count  13449.000000  13449.000000  13449.000000  13449.000000  13449.000000   \n",
       "mean       9.775701    215.200610     14.619079     56.657447     63.720574   \n",
       "std        4.809162    112.752072      5.969207     16.601514     21.249684   \n",
       "min        4.005691      0.000000      0.000000      0.000000      0.000000   \n",
       "25%        7.539533    120.000000     11.000000     46.000000     51.000000   \n",
       "50%        8.561809    216.000000     15.000000     60.000000     67.000000   \n",
       "75%       10.334356    308.000000     19.000000     70.000000     79.000000   \n",
       "max      103.923578    560.000000     33.000000    122.000000    187.000000   \n",
       "\n",
       "           mZagreb2  \n",
       "count  13449.000000  \n",
       "mean       2.709742  \n",
       "std        0.606246  \n",
       "min        0.000000  \n",
       "25%        2.333333  \n",
       "50%        2.833333  \n",
       "75%        3.194444  \n",
       "max        4.000000  \n",
       "\n",
       "[8 rows x 984 columns]"
      ]
     },
     "execution_count": 192,
     "metadata": {},
     "output_type": "execute_result"
    }
   ],
   "source": [
    "# remove null values \n",
    "train_descriptors_full = train_descriptors.iloc[:, 3:-2].dropna(axis=1, how=\"any\")\n",
    "train_descriptors_full.describe()"
   ]
  },
  {
   "cell_type": "code",
   "execution_count": 198,
   "metadata": {
    "scrolled": true
   },
   "outputs": [
    {
     "data": {
      "text/plain": [
       "array([[-0.00813941,  0.20391958, -0.36876013, ..., -0.1600785 ,\n",
       "        -0.2692175 ,  0.11222891],\n",
       "       [ 0.88121236,  1.09164384, -0.36876013, ...,  0.80372486,\n",
       "         0.76613051,  1.44103793],\n",
       "       [ 0.9288913 ,  0.69683067, -0.36876013, ...,  1.04467569,\n",
       "         1.09555942,  0.47879692],\n",
       "       ...,\n",
       "       [-0.31634089, -0.32639168,  1.4762752 , ..., -0.40102934,\n",
       "        -0.45746259, -0.30016009],\n",
       "       [ 0.88121236,  0.59478478, -0.36876013, ...,  0.92420028,\n",
       "         0.9543756 ,  0.61625992],\n",
       "       [ 0.60826356,  0.50681255, -0.36876013, ...,  0.4422986 ,\n",
       "         0.29551778,  0.93700693]])"
      ]
     },
     "execution_count": 198,
     "metadata": {},
     "output_type": "execute_result"
    }
   ],
   "source": [
    "\n",
    "#standardizing the input feature\n",
    "\n",
    "sc = StandardScaler()\n",
    "train_descriptors_full = sc.fit_transform(train_descriptors_full)\n",
    "\n",
    "train_descriptors_full"
   ]
  },
  {
   "cell_type": "code",
   "execution_count": 199,
   "metadata": {},
   "outputs": [
    {
     "name": "stdout",
     "output_type": "stream",
     "text": [
      "(9414, 984)\n",
      "(4035, 984)\n",
      "(4035,)\n"
     ]
    }
   ],
   "source": [
    "x = train_descriptors_full\n",
    "y = train_crystals['is_centrosymmetric'] \n",
    "\n",
    "# split data\n",
    "x_train, x_test, y_train, y_test = train_test_split(x, y, test_size=0.30, random_state=40)\n",
    "print(x_train.shape); print(x_test.shape);print(y_test.shape)"
   ]
  },
  {
   "cell_type": "code",
   "execution_count": 200,
   "metadata": {},
   "outputs": [
    {
     "name": "stdout",
     "output_type": "stream",
     "text": [
      "8895     1\n",
      "5471     1\n",
      "4728     1\n",
      "2056     0\n",
      "3631     1\n",
      "4099     1\n",
      "3107     1\n",
      "7133     1\n",
      "8605     1\n",
      "2118     1\n",
      "7926     1\n",
      "8033     1\n",
      "1020     0\n",
      "12352    1\n",
      "4411     1\n",
      "402      0\n",
      "6364     1\n",
      "9139     1\n",
      "3786     1\n",
      "7562     1\n",
      "9673     0\n",
      "6433     1\n",
      "12436    0\n",
      "6408     1\n",
      "11917    1\n",
      "9818     0\n",
      "2452     1\n",
      "1885     0\n",
      "10351    1\n",
      "10919    1\n",
      "        ..\n",
      "2615     1\n",
      "3783     1\n",
      "11995    1\n",
      "6275     1\n",
      "5142     1\n",
      "12986    1\n",
      "3688     1\n",
      "500      1\n",
      "860      1\n",
      "1231     1\n",
      "3742     0\n",
      "11272    1\n",
      "5449     1\n",
      "9909     0\n",
      "3889     1\n",
      "12000    0\n",
      "2121     0\n",
      "11355    1\n",
      "443      1\n",
      "8147     0\n",
      "10295    1\n",
      "7839     1\n",
      "3603     1\n",
      "12914    0\n",
      "5959     1\n",
      "11532    1\n",
      "5426     1\n",
      "7608     0\n",
      "11256    1\n",
      "11590    1\n",
      "Name: is_centrosymmetric, Length: 9414, dtype: int32\n",
      "[[-0.16468455  0.25494867 -0.36876013 ... -0.1600785  -0.36334004\n",
      "   0.06640791]\n",
      " [-0.28628829 -0.24269414  1.4762752  ... -0.28055392 -0.2692175\n",
      "  -0.39180209]\n",
      " [-0.67222131 -0.65398446 -0.36876013 ... -0.64198018 -0.59864641\n",
      "  -0.57508609]\n",
      " ...\n",
      " [-2.50380386 -2.55554226  1.4762752  ... -2.44911147 -2.3399135\n",
      "  -2.27046312]\n",
      " [-1.48384154 -1.37694691  3.32131053 ... -1.60578353 -1.68105568\n",
      "  -1.3082221 ]\n",
      " [-0.00813941 -0.0294516  -0.36876013 ... -0.1600785  -0.2692175\n",
      "   0.11222891]]\n"
     ]
    }
   ],
   "source": [
    "y_train = np.multiply(y_train, 1)\n",
    "y_test = np.multiply(y_test, 1)\n",
    "#print(y_train)\n",
    "#print(x_train)"
   ]
  },
  {
   "cell_type": "markdown",
   "metadata": {},
   "source": [
    "### Keras Model"
   ]
  },
  {
   "cell_type": "code",
   "execution_count": 201,
   "metadata": {},
   "outputs": [
    {
     "name": "stdout",
     "output_type": "stream",
     "text": [
      "_________________________________________________________________\n",
      "Layer (type)                 Output Shape              Param #   \n",
      "=================================================================\n",
      "dense_133 (Dense)            (None, 2000)              1970000   \n",
      "_________________________________________________________________\n",
      "dense_134 (Dense)            (None, 1000)              2001000   \n",
      "_________________________________________________________________\n",
      "dense_135 (Dense)            (None, 500)               500500    \n",
      "_________________________________________________________________\n",
      "dense_136 (Dense)            (None, 50)                25050     \n",
      "_________________________________________________________________\n",
      "dense_137 (Dense)            (None, 1)                 51        \n",
      "=================================================================\n",
      "Total params: 4,496,601\n",
      "Trainable params: 4,496,601\n",
      "Non-trainable params: 0\n",
      "_________________________________________________________________\n"
     ]
    }
   ],
   "source": [
    "model = Sequential()\n",
    "model.add(Dense(2000, activation='relu', input_dim=984))\n",
    "model.add(Dense(1000, activation='relu'))\n",
    "model.add(Dense(500, activation='relu'))\n",
    "model.add(Dense(50, activation='relu'))\n",
    "model.add(Dense(1, activation='sigmoid'))\n",
    "\n",
    "# Compile the model\n",
    "model.compile(optimizer='adam', \n",
    "              loss='binary_crossentropy', \n",
    "              metrics=['accuracy'])\n",
    "model.summary()\n"
   ]
  },
  {
   "cell_type": "markdown",
   "metadata": {},
   "source": [
    "\n"
   ]
  },
  {
   "cell_type": "code",
   "execution_count": 202,
   "metadata": {},
   "outputs": [
    {
     "name": "stdout",
     "output_type": "stream",
     "text": [
      "Epoch 1/20\n",
      "9414/9414 [==============================] - 48s 5ms/step - loss: 0.5166 - acc: 0.7990\n",
      "Epoch 2/20\n",
      "9414/9414 [==============================] - 39s 4ms/step - loss: 0.4715 - acc: 0.8085\n",
      "Epoch 3/20\n",
      "9414/9414 [==============================] - 35s 4ms/step - loss: 0.4625 - acc: 0.8077\n",
      "Epoch 4/20\n",
      "9414/9414 [==============================] - 35s 4ms/step - loss: 0.4516 - acc: 0.8086\n",
      "Epoch 5/20\n",
      "9414/9414 [==============================] - 37s 4ms/step - loss: 0.4445 - acc: 0.8104\n",
      "Epoch 6/20\n",
      "9414/9414 [==============================] - 37s 4ms/step - loss: 0.4370 - acc: 0.8146\n",
      "Epoch 7/20\n",
      "9414/9414 [==============================] - 34s 4ms/step - loss: 0.4287 - acc: 0.8156\n",
      "Epoch 8/20\n",
      "9414/9414 [==============================] - 35s 4ms/step - loss: 0.4152 - acc: 0.8181\n",
      "Epoch 9/20\n",
      "9414/9414 [==============================] - 35s 4ms/step - loss: 0.4078 - acc: 0.8195: 0s - loss: 0.4071 - acc\n",
      "Epoch 10/20\n",
      "9414/9414 [==============================] - 34s 4ms/step - loss: 0.3964 - acc: 0.8233\n",
      "Epoch 11/20\n",
      "9414/9414 [==============================] - 34s 4ms/step - loss: 0.3920 - acc: 0.8256\n",
      "Epoch 12/20\n",
      "9414/9414 [==============================] - 33s 3ms/step - loss: 0.3754 - acc: 0.8318\n",
      "Epoch 13/20\n",
      "9414/9414 [==============================] - 34s 4ms/step - loss: 0.3612 - acc: 0.8369\n",
      "Epoch 14/20\n",
      "9414/9414 [==============================] - 35s 4ms/step - loss: 0.3579 - acc: 0.8390\n",
      "Epoch 15/20\n",
      "9414/9414 [==============================] - 35s 4ms/step - loss: 0.3470 - acc: 0.8427\n",
      "Epoch 16/20\n",
      "9414/9414 [==============================] - 40s 4ms/step - loss: 0.3324 - acc: 0.8505\n",
      "Epoch 17/20\n",
      "9414/9414 [==============================] - 43s 5ms/step - loss: 0.3178 - acc: 0.8538\n",
      "Epoch 18/20\n",
      "9414/9414 [==============================] - 42s 4ms/step - loss: 0.3011 - acc: 0.8635\n",
      "Epoch 19/20\n",
      "9414/9414 [==============================] - 43s 5ms/step - loss: 0.2917 - acc: 0.8703\n",
      "Epoch 20/20\n",
      "9414/9414 [==============================] - 43s 5ms/step - loss: 0.2806 - acc: 0.8725\n"
     ]
    },
    {
     "data": {
      "text/plain": [
       "<keras.callbacks.History at 0x227898a4f98>"
      ]
     },
     "execution_count": 202,
     "metadata": {},
     "output_type": "execute_result"
    }
   ],
   "source": [
    "model.fit(x_train, y_train, epochs=20)"
   ]
  },
  {
   "cell_type": "code",
   "execution_count": 203,
   "metadata": {},
   "outputs": [
    {
     "name": "stdout",
     "output_type": "stream",
     "text": [
      "Accuracy on training data: 0.8882515402465254% \n",
      " Error on training data: 0.11174845975347458\n",
      "Accuracy on test data: 0.7789343246740036% \n",
      " Error on test data: 0.2210656753259964\n"
     ]
    }
   ],
   "source": [
    "pred_train= model.predict(x_train)\n",
    "scores = model.evaluate(x_train, y_train, verbose=0)\n",
    "print('Accuracy on training data: {}% \\n Error on training data: {}'.format(scores[1], 1 - scores[1]))   \n",
    " \n",
    "pred_test= model.predict(x_test)\n",
    "scores2 = model.evaluate(x_test, y_test, verbose=0)\n",
    "print('Accuracy on test data: {}% \\n Error on test data: {}'.format(scores2[1], 1 - scores2[1]))    "
   ]
  },
  {
   "cell_type": "code",
   "execution_count": 206,
   "metadata": {},
   "outputs": [
    {
     "ename": "ValueError",
     "evalue": "Error when checking input: expected dense_133_input to have shape (984,) but got array with shape (1029,)",
     "output_type": "error",
     "traceback": [
      "\u001b[1;31m---------------------------------------------------------------------------\u001b[0m",
      "\u001b[1;31mValueError\u001b[0m                                Traceback (most recent call last)",
      "\u001b[1;32m<ipython-input-206-1f46795970d6>\u001b[0m in \u001b[0;36m<module>\u001b[1;34m()\u001b[0m\n\u001b[0;32m      4\u001b[0m \u001b[1;33m\u001b[0m\u001b[0m\n\u001b[0;32m      5\u001b[0m \u001b[1;33m\u001b[0m\u001b[0m\n\u001b[1;32m----> 6\u001b[1;33m \u001b[0mpredictions\u001b[0m\u001b[1;33m=\u001b[0m \u001b[0mmodel\u001b[0m\u001b[1;33m.\u001b[0m\u001b[0mpredict\u001b[0m\u001b[1;33m(\u001b[0m\u001b[0mtest_descriptors_full\u001b[0m\u001b[1;33m)\u001b[0m\u001b[1;33m\u001b[0m\u001b[0m\n\u001b[0m",
      "\u001b[1;32m~\\Anaconda3\\lib\\site-packages\\keras\\engine\\training.py\u001b[0m in \u001b[0;36mpredict\u001b[1;34m(self, x, batch_size, verbose, steps)\u001b[0m\n\u001b[0;32m   1145\u001b[0m                 \u001b[0muse_multiprocessing\u001b[0m\u001b[1;33m=\u001b[0m\u001b[0muse_multiprocessing\u001b[0m\u001b[1;33m,\u001b[0m\u001b[1;33m\u001b[0m\u001b[0m\n\u001b[0;32m   1146\u001b[0m                 \u001b[0mshuffle\u001b[0m\u001b[1;33m=\u001b[0m\u001b[0mshuffle\u001b[0m\u001b[1;33m,\u001b[0m\u001b[1;33m\u001b[0m\u001b[0m\n\u001b[1;32m-> 1147\u001b[1;33m                 initial_epoch=initial_epoch)\n\u001b[0m\u001b[0;32m   1148\u001b[0m \u001b[1;33m\u001b[0m\u001b[0m\n\u001b[0;32m   1149\u001b[0m         \u001b[1;31m# Case 2: Symbolic tensors or Numpy array-like.\u001b[0m\u001b[1;33m\u001b[0m\u001b[1;33m\u001b[0m\u001b[0m\n",
      "\u001b[1;32m~\\Anaconda3\\lib\\site-packages\\keras\\engine\\training.py\u001b[0m in \u001b[0;36m_standardize_user_data\u001b[1;34m(self, x, y, sample_weight, class_weight, check_array_lengths, batch_size)\u001b[0m\n\u001b[0;32m    747\u001b[0m     \u001b[1;32mdef\u001b[0m \u001b[0m_add_unique_metric_name\u001b[0m\u001b[1;33m(\u001b[0m\u001b[0mself\u001b[0m\u001b[1;33m,\u001b[0m \u001b[0mmetric_name\u001b[0m\u001b[1;33m,\u001b[0m \u001b[0moutput_index\u001b[0m\u001b[1;33m)\u001b[0m\u001b[1;33m:\u001b[0m\u001b[1;33m\u001b[0m\u001b[0m\n\u001b[0;32m    748\u001b[0m         \"\"\"Makes the metric name unique and adds it to the model's metric name list.\n\u001b[1;32m--> 749\u001b[1;33m \u001b[1;33m\u001b[0m\u001b[0m\n\u001b[0m\u001b[0;32m    750\u001b[0m         \u001b[0mIf\u001b[0m \u001b[0mthere\u001b[0m \u001b[0mare\u001b[0m \u001b[0mmultiple\u001b[0m \u001b[0moutputs\u001b[0m \u001b[1;32mfor\u001b[0m \u001b[0mwhich\u001b[0m \u001b[0mthe\u001b[0m \u001b[0mmetrics\u001b[0m \u001b[0mare\u001b[0m \u001b[0mcalculated\u001b[0m\u001b[1;33m,\u001b[0m \u001b[0mthe\u001b[0m\u001b[1;33m\u001b[0m\u001b[0m\n\u001b[0;32m    751\u001b[0m         \u001b[0mmetric\u001b[0m \u001b[0mnames\u001b[0m \u001b[0mhave\u001b[0m \u001b[0mto\u001b[0m \u001b[0mbe\u001b[0m \u001b[0mmade\u001b[0m \u001b[0munique\u001b[0m \u001b[0mby\u001b[0m \u001b[0mappending\u001b[0m \u001b[0man\u001b[0m \u001b[0minteger\u001b[0m\u001b[1;33m.\u001b[0m\u001b[1;33m\u001b[0m\u001b[0m\n",
      "\u001b[1;32m~\\Anaconda3\\lib\\site-packages\\keras\\engine\\training_utils.py\u001b[0m in \u001b[0;36mstandardize_input_data\u001b[1;34m(data, names, shapes, check_batch_axis, exception_prefix)\u001b[0m\n\u001b[0;32m    135\u001b[0m                         'with shape ' + str(data_shape))\n\u001b[0;32m    136\u001b[0m                 \u001b[1;32mif\u001b[0m \u001b[1;32mnot\u001b[0m \u001b[0mcheck_batch_axis\u001b[0m\u001b[1;33m:\u001b[0m\u001b[1;33m\u001b[0m\u001b[0m\n\u001b[1;32m--> 137\u001b[1;33m                     \u001b[0mdata_shape\u001b[0m \u001b[1;33m=\u001b[0m \u001b[0mdata_shape\u001b[0m\u001b[1;33m[\u001b[0m\u001b[1;36m1\u001b[0m\u001b[1;33m:\u001b[0m\u001b[1;33m]\u001b[0m\u001b[1;33m\u001b[0m\u001b[0m\n\u001b[0m\u001b[0;32m    138\u001b[0m                     \u001b[0mshape\u001b[0m \u001b[1;33m=\u001b[0m \u001b[0mshape\u001b[0m\u001b[1;33m[\u001b[0m\u001b[1;36m1\u001b[0m\u001b[1;33m:\u001b[0m\u001b[1;33m]\u001b[0m\u001b[1;33m\u001b[0m\u001b[0m\n\u001b[0;32m    139\u001b[0m                 \u001b[1;32mfor\u001b[0m \u001b[0mdim\u001b[0m\u001b[1;33m,\u001b[0m \u001b[0mref_dim\u001b[0m \u001b[1;32min\u001b[0m \u001b[0mzip\u001b[0m\u001b[1;33m(\u001b[0m\u001b[0mdata_shape\u001b[0m\u001b[1;33m,\u001b[0m \u001b[0mshape\u001b[0m\u001b[1;33m)\u001b[0m\u001b[1;33m:\u001b[0m\u001b[1;33m\u001b[0m\u001b[0m\n",
      "\u001b[1;31mValueError\u001b[0m: Error when checking input: expected dense_133_input to have shape (984,) but got array with shape (1029,)"
     ]
    }
   ],
   "source": [
    "test_descriptors = pd.read_csv(\"test_descriptors.csv\")\n",
    "test_descriptors_full = test_descriptors.iloc[:, 3:-2].dropna(axis=1, how=\"any\")\n",
    "test_descriptors_full = sc.fit_transform(test_descriptors_full)\n",
    "\n",
    "\n",
    "predictions= model.predict(test_descriptors_full)\n"
   ]
  },
  {
   "cell_type": "code",
   "execution_count": 207,
   "metadata": {},
   "outputs": [
    {
     "ename": "NameError",
     "evalue": "name 'predictions' is not defined",
     "output_type": "error",
     "traceback": [
      "\u001b[1;31m---------------------------------------------------------------------------\u001b[0m",
      "\u001b[1;31mNameError\u001b[0m                                 Traceback (most recent call last)",
      "\u001b[1;32m<ipython-input-207-1267c352e4e7>\u001b[0m in \u001b[0;36m<module>\u001b[1;34m()\u001b[0m\n\u001b[1;32m----> 1\u001b[1;33m \u001b[0mnp\u001b[0m\u001b[1;33m.\u001b[0m\u001b[0msavetxt\u001b[0m\u001b[1;33m(\u001b[0m\u001b[1;34m\"task_x_predictions.csv\"\u001b[0m\u001b[1;33m,\u001b[0m \u001b[0mpredictions\u001b[0m\u001b[1;33m)\u001b[0m\u001b[1;33m\u001b[0m\u001b[0m\n\u001b[0m\u001b[0;32m      2\u001b[0m \u001b[1;31m# Alternatively, if using pandas, you can use the following:\u001b[0m\u001b[1;33m\u001b[0m\u001b[1;33m\u001b[0m\u001b[0m\n\u001b[0;32m      3\u001b[0m \u001b[0mpd\u001b[0m\u001b[1;33m.\u001b[0m\u001b[0mDataFrame\u001b[0m\u001b[1;33m(\u001b[0m\u001b[0mpredictions\u001b[0m\u001b[1;33m)\u001b[0m\u001b[1;33m.\u001b[0m\u001b[0mto_csv\u001b[0m\u001b[1;33m(\u001b[0m\u001b[1;34m\"task_x_predictions.csv\"\u001b[0m\u001b[1;33m,\u001b[0m \u001b[0mheader\u001b[0m\u001b[1;33m=\u001b[0m\u001b[1;32mFalse\u001b[0m\u001b[1;33m,\u001b[0m \u001b[0mindex\u001b[0m\u001b[1;33m=\u001b[0m\u001b[1;32mFalse\u001b[0m\u001b[1;33m)\u001b[0m\u001b[1;33m\u001b[0m\u001b[0m\n",
      "\u001b[1;31mNameError\u001b[0m: name 'predictions' is not defined"
     ]
    }
   ],
   "source": [
    "np.savetxt(\"task_x_predictions.csv\", predictions)\n",
    "# Alternatively, if using pandas, you can use the following:\n",
    "pd.DataFrame(predictions).to_csv(\"task_x_predictions.csv\", header=False, index=False)"
   ]
  },
  {
   "cell_type": "markdown",
   "metadata": {},
   "source": [
    "### Outputting predictions for automated checking \n",
    "Link: https://github.com/stevenkbennett/fons_datathon_testing"
   ]
  }
 ],
 "metadata": {
  "kernelspec": {
   "display_name": "Python 3",
   "language": "python",
   "name": "python3"
  },
  "language_info": {
   "codemirror_mode": {
    "name": "ipython",
    "version": 3
   },
   "file_extension": ".py",
   "mimetype": "text/x-python",
   "name": "python",
   "nbconvert_exporter": "python",
   "pygments_lexer": "ipython3",
   "version": "3.6.5"
  }
 },
 "nbformat": 4,
 "nbformat_minor": 5
}
